{
 "cells": [
  {
   "cell_type": "code",
   "execution_count": null,
   "id": "d836a563",
   "metadata": {},
   "outputs": [],
   "source": [
    "print(\"dfdf\")"
   ]
  }
 ],
 "metadata": {
  "language_info": {
   "name": "python"
  }
 },
 "nbformat": 4,
 "nbformat_minor": 5
}
